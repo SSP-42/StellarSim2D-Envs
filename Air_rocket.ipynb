{
  "cells": [
    {
      "cell_type": "markdown",
      "metadata": {
        "id": "view-in-github",
        "colab_type": "text"
      },
      "source": [
        "<a href=\"https://colab.research.google.com/github/SSP-42/StellarSim2D/blob/main/Air_rocket.ipynb\" target=\"_parent\"><img src=\"https://colab.research.google.com/assets/colab-badge.svg\" alt=\"Open In Colab\"/></a>"
      ]
    },
    {
      "cell_type": "code",
      "execution_count": 1,
      "metadata": {
        "colab": {
          "base_uri": "https://localhost:8080/"
        },
        "id": "P8CLoO7it3sj",
        "outputId": "951669a5-e73f-4f9e-c5fa-01167482c7e4"
      },
      "outputs": [
        {
          "output_type": "stream",
          "name": "stdout",
          "text": [
            "Python version: \n",
            "3.10.12 (main, Nov 20 2023, 15:14:05) [GCC 11.4.0]\n"
          ]
        }
      ],
      "source": [
        "import sys\n",
        "\n",
        "print(\"Python version: \")\n",
        "print(sys.version)\n",
        "\n",
        "if (sys.version_info[0] < 3):\n",
        "    raise Exception(\"ERROR: ML-Agents Toolkit requires Python 3\")"
      ]
    },
    {
      "cell_type": "code",
      "execution_count": null,
      "metadata": {
        "colab": {
          "base_uri": "https://localhost:8080/"
        },
        "id": "fbkgz28pSXj2",
        "outputId": "7767d115-242d-445d-c99c-29cccf3bf731"
      },
      "outputs": [
        {
          "output_type": "stream",
          "name": "stdout",
          "text": [
            "Cloning into 'ml-agents'...\n",
            "remote: Enumerating objects: 92072, done.\u001b[K\n",
            "remote: Counting objects: 100% (2957/2957), done.\u001b[K\n",
            "remote: Compressing objects: 100% (1195/1195), done.\u001b[K\n"
          ]
        }
      ],
      "source": [
        "# Cloning the ml-agents repo.\n",
        "!git clone https://github.com/Unity-Technologies/ml-agents.git\n",
        "\n",
        "# Installing the ml-agents from the repo.\n",
        "!pip install -e ml-agents/ml-agents-envs/\n",
        "!pip install -e ml-agents/ml-agents/"
      ]
    },
    {
      "cell_type": "code",
      "execution_count": null,
      "metadata": {
        "id": "Qo6PC3nFSgK1"
      },
      "outputs": [],
      "source": [
        "!git clone https://github.com/SSP-42/StellarSim2D.git"
      ]
    },
    {
      "cell_type": "code",
      "execution_count": null,
      "metadata": {
        "id": "9YdTPrNyeEBK"
      },
      "outputs": [],
      "source": [
        "hotfix_build = \"Air_Rocket_2\""
      ]
    },
    {
      "cell_type": "code",
      "execution_count": null,
      "metadata": {
        "id": "KLD7Uo6kX2IA"
      },
      "outputs": [],
      "source": [
        "!chmod -R 755 /content/StellarSim2D/Envs/$hotfix_build/Air_Rocket.x86_64\n",
        "!chmod -R 755 /content/StellarSim2D/Envs/$hotfix_build/UnityPlayer.so\n",
        "!ls -l /content/StellarSim2D/Envs/$hotfix_build/"
      ]
    },
    {
      "cell_type": "code",
      "execution_count": null,
      "metadata": {
        "id": "MWvJ62V3foxG"
      },
      "outputs": [],
      "source": [
        "# Feel free to write your own config file.\n",
        "%%writefile config.yaml\n",
        "\n",
        "behaviors:\n",
        "  MLROCKET:\n",
        "    trainer_type: ppo\n",
        "    hyperparameters:\n",
        "      batch_size: 10\n",
        "      buffer_size: 100\n",
        "      learning_rate: 3.0e-3\n",
        "      beta: 5.0e-4\n",
        "      epsilon: 0.2\n",
        "      lambd: 0.99\n",
        "      num_epoch: 3\n",
        "      learning_rate_schedule: linear\n",
        "      beta_schedule: constant\n",
        "      epsilon_schedule: linear\n",
        "    network_settings:\n",
        "      normalize: false\n",
        "      hidden_units: 128\n",
        "      num_layers: 2\n",
        "    reward_signals:\n",
        "      extrinsic:\n",
        "        gamma: 0.99\n",
        "        strength: 1.0\n",
        "    max_steps: 200000\n",
        "    time_horizon: 64\n",
        "    summary_freq: 10000\n"
      ]
    },
    {
      "cell_type": "code",
      "execution_count": null,
      "metadata": {
        "id": "hZg-3ljNfcpl"
      },
      "outputs": [],
      "source": [
        "env_name = f\"StellarSim2D/Envs/{hotfix_build}/Air_Rocket.x86_64\"\n",
        "run_id = \"test-1\""
      ]
    },
    {
      "cell_type": "code",
      "execution_count": null,
      "metadata": {
        "id": "QZciFMJVfq-c"
      },
      "outputs": [],
      "source": [
        "%load_ext tensorboard\n",
        "%tensorboard --logdir results"
      ]
    },
    {
      "cell_type": "code",
      "execution_count": null,
      "metadata": {
        "colab": {
          "background_save": true
        },
        "id": "kWreVgr_fzYp"
      },
      "outputs": [],
      "source": [
        "!mlagents-learn /content/config.yaml --run-id=$run_id --env=$env_name --no-graphics"
      ]
    },
    {
      "cell_type": "code",
      "execution_count": null,
      "metadata": {
        "id": "FS4pnY90fqBQ"
      },
      "outputs": [],
      "source": [
        "%reload_ext tensorboard\n",
        "%tensorboard --logdir results"
      ]
    },
    {
      "cell_type": "code",
      "execution_count": null,
      "metadata": {
        "id": "QohM-z_pf2XM"
      },
      "outputs": [],
      "source": [
        "path = '/content/models/' + run_id + '/AirRocket.nn'\n",
        "\n",
        "from google.colab import files\n",
        "files.download(path)"
      ]
    }
  ],
  "metadata": {
    "accelerator": "GPU",
    "colab": {
      "provenance": [],
      "authorship_tag": "ABX9TyMIeUEYK4WRAOxH48YkW4EV",
      "include_colab_link": true
    },
    "kernelspec": {
      "display_name": "Python 3",
      "name": "python3"
    },
    "language_info": {
      "name": "python"
    }
  },
  "nbformat": 4,
  "nbformat_minor": 0
}